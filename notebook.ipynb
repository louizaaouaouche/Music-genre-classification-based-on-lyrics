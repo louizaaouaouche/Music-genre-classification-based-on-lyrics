{
 "cells": [
  {
   "cell_type": "markdown",
   "metadata": {},
   "source": [
    "# SD201 : MINING OF LARGE DATASETS"
   ]
  },
  {
   "cell_type": "markdown",
   "metadata": {},
   "source": [
    "## MUSIC GENRE CLASSIFICATION USING SONG LYRICS"
   ]
  },
  {
   "cell_type": "code",
   "execution_count": 102,
   "metadata": {},
   "outputs": [],
   "source": [
    "#imports\n",
    "import pandas as pd\n",
    "import numpy as np\n",
    "import matplotlib.pyplot as plt\n",
    "import seaborn as sns"
   ]
  },
  {
   "cell_type": "markdown",
   "metadata": {},
   "source": [
    "### 1. DATA PREPROCESSING"
   ]
  },
  {
   "cell_type": "code",
   "execution_count": 103,
   "metadata": {},
   "outputs": [],
   "source": [
    "# loading the dataset from csv file\n",
    "data = pd.read_csv(\"lyrics.csv\", sep='#')"
   ]
  },
  {
   "cell_type": "code",
   "execution_count": 104,
   "metadata": {},
   "outputs": [
    {
     "data": {
      "text/html": [
       "<div>\n",
       "<style scoped>\n",
       "    .dataframe tbody tr th:only-of-type {\n",
       "        vertical-align: middle;\n",
       "    }\n",
       "\n",
       "    .dataframe tbody tr th {\n",
       "        vertical-align: top;\n",
       "    }\n",
       "\n",
       "    .dataframe thead th {\n",
       "        text-align: right;\n",
       "    }\n",
       "</style>\n",
       "<table border=\"1\" class=\"dataframe\">\n",
       "  <thead>\n",
       "    <tr style=\"text-align: right;\">\n",
       "      <th></th>\n",
       "      <th>artist</th>\n",
       "      <th>title</th>\n",
       "      <th>lyrics</th>\n",
       "      <th>genre</th>\n",
       "      <th>url</th>\n",
       "    </tr>\n",
       "  </thead>\n",
       "  <tbody>\n",
       "    <tr>\n",
       "      <th>0</th>\n",
       "      <td>Eminem</td>\n",
       "      <td>Rap God</td>\n",
       "      <td>Rap God Lyrics\\r\\n\"Look, I was gonna go easy o...</td>\n",
       "      <td>rap</td>\n",
       "      <td>https://genius.com/Eminem-rap-god-lyrics</td>\n",
       "    </tr>\n",
       "    <tr>\n",
       "      <th>1</th>\n",
       "      <td>Cardi B</td>\n",
       "      <td>WAP</td>\n",
       "      <td>WAP Lyrics\\r\\nWhores in this house\\r\\nThere's ...</td>\n",
       "      <td>rap</td>\n",
       "      <td>https://genius.com/Cardi-b-wap-lyrics</td>\n",
       "    </tr>\n",
       "    <tr>\n",
       "      <th>2</th>\n",
       "      <td>Kendrick Lamar</td>\n",
       "      <td>HUMBLE.</td>\n",
       "      <td>HUMBLE. Lyrics\\r\\nNobody pray for me\\r\\nIt bee...</td>\n",
       "      <td>rap</td>\n",
       "      <td>https://genius.com/Kendrick-lamar-humble-lyrics</td>\n",
       "    </tr>\n",
       "    <tr>\n",
       "      <th>3</th>\n",
       "      <td>Migos</td>\n",
       "      <td>Bad and Boujee</td>\n",
       "      <td>Bad and Boujee Lyrics\\r\\nYou know, young rich ...</td>\n",
       "      <td>rap</td>\n",
       "      <td>https://genius.com/Migos-bad-and-boujee-lyrics</td>\n",
       "    </tr>\n",
       "    <tr>\n",
       "      <th>4</th>\n",
       "      <td>Drake</td>\n",
       "      <td>God's Plan</td>\n",
       "      <td>God’s Plan Lyrics\\r\\nAnd they wishin' and wish...</td>\n",
       "      <td>rap</td>\n",
       "      <td>https://genius.com/Drake-gods-plan-lyrics</td>\n",
       "    </tr>\n",
       "  </tbody>\n",
       "</table>\n",
       "</div>"
      ],
      "text/plain": [
       "           artist           title  \\\n",
       "0          Eminem         Rap God   \n",
       "1         Cardi B             WAP   \n",
       "2  Kendrick Lamar         HUMBLE.   \n",
       "3           Migos  Bad and Boujee   \n",
       "4           Drake      God's Plan   \n",
       "\n",
       "                                              lyrics genre  \\\n",
       "0  Rap God Lyrics\\r\\n\"Look, I was gonna go easy o...   rap   \n",
       "1  WAP Lyrics\\r\\nWhores in this house\\r\\nThere's ...   rap   \n",
       "2  HUMBLE. Lyrics\\r\\nNobody pray for me\\r\\nIt bee...   rap   \n",
       "3  Bad and Boujee Lyrics\\r\\nYou know, young rich ...   rap   \n",
       "4  God’s Plan Lyrics\\r\\nAnd they wishin' and wish...   rap   \n",
       "\n",
       "                                               url  \n",
       "0         https://genius.com/Eminem-rap-god-lyrics  \n",
       "1            https://genius.com/Cardi-b-wap-lyrics  \n",
       "2  https://genius.com/Kendrick-lamar-humble-lyrics  \n",
       "3   https://genius.com/Migos-bad-and-boujee-lyrics  \n",
       "4        https://genius.com/Drake-gods-plan-lyrics  "
      ]
     },
     "execution_count": 104,
     "metadata": {},
     "output_type": "execute_result"
    }
   ],
   "source": [
    "# inspecting the content of the dataset\n",
    "data.head()"
   ]
  },
  {
   "cell_type": "code",
   "execution_count": 105,
   "metadata": {},
   "outputs": [
    {
     "data": {
      "text/plain": [
       "(6858, 5)"
      ]
     },
     "execution_count": 105,
     "metadata": {},
     "output_type": "execute_result"
    }
   ],
   "source": [
    "# size of the dataset\n",
    "data.shape"
   ]
  },
  {
   "cell_type": "code",
   "execution_count": 106,
   "metadata": {},
   "outputs": [
    {
     "data": {
      "text/plain": [
       "lyrics    25\n",
       "dtype: int64"
      ]
     },
     "execution_count": 106,
     "metadata": {},
     "output_type": "execute_result"
    }
   ],
   "source": [
    "#Missing values\n",
    "data.isna().sum()[data.isna().sum() > 0]"
   ]
  },
  {
   "cell_type": "code",
   "execution_count": 107,
   "metadata": {},
   "outputs": [],
   "source": [
    "# Deleting rows with missing values\n",
    "data.dropna(inplace=True)\n",
    "data.reset_index(drop=True, inplace=True)"
   ]
  },
  {
   "cell_type": "code",
   "execution_count": 108,
   "metadata": {},
   "outputs": [
    {
     "data": {
      "text/plain": [
       "artist    0\n",
       "title     0\n",
       "lyrics    0\n",
       "genre     0\n",
       "url       0\n",
       "dtype: int64"
      ]
     },
     "execution_count": 108,
     "metadata": {},
     "output_type": "execute_result"
    }
   ],
   "source": [
    "#Check missing values (check is dropping went right)\n",
    "data.isna().sum()\n"
   ]
  },
  {
   "cell_type": "code",
   "execution_count": 109,
   "metadata": {},
   "outputs": [],
   "source": [
    "\n",
    "\n",
    "for i in range(0,len(data['lyrics'])):\n",
    "    data['lyrics'][i] = data['lyrics'][i].split('Lyrics')[1]\n",
    "    "
   ]
  },
  {
   "cell_type": "code",
   "execution_count": 111,
   "metadata": {},
   "outputs": [
    {
     "data": {
      "text/html": [
       "<div>\n",
       "<style scoped>\n",
       "    .dataframe tbody tr th:only-of-type {\n",
       "        vertical-align: middle;\n",
       "    }\n",
       "\n",
       "    .dataframe tbody tr th {\n",
       "        vertical-align: top;\n",
       "    }\n",
       "\n",
       "    .dataframe thead th {\n",
       "        text-align: right;\n",
       "    }\n",
       "</style>\n",
       "<table border=\"1\" class=\"dataframe\">\n",
       "  <thead>\n",
       "    <tr style=\"text-align: right;\">\n",
       "      <th></th>\n",
       "      <th>artist</th>\n",
       "      <th>title</th>\n",
       "      <th>lyrics</th>\n",
       "      <th>genre</th>\n",
       "      <th>url</th>\n",
       "    </tr>\n",
       "  </thead>\n",
       "  <tbody>\n",
       "    <tr>\n",
       "      <th>0</th>\n",
       "      <td>Eminem</td>\n",
       "      <td>Rap God</td>\n",
       "      <td>\\r\\n\"Look, I was gonna go easy on you not to h...</td>\n",
       "      <td>rap</td>\n",
       "      <td>https://genius.com/Eminem-rap-god-lyrics</td>\n",
       "    </tr>\n",
       "    <tr>\n",
       "      <th>1</th>\n",
       "      <td>Cardi B</td>\n",
       "      <td>WAP</td>\n",
       "      <td>\\r\\nWhores in this house\\r\\nThere's some whore...</td>\n",
       "      <td>rap</td>\n",
       "      <td>https://genius.com/Cardi-b-wap-lyrics</td>\n",
       "    </tr>\n",
       "    <tr>\n",
       "      <th>2</th>\n",
       "      <td>Kendrick Lamar</td>\n",
       "      <td>HUMBLE.</td>\n",
       "      <td>\\r\\nNobody pray for me\\r\\nIt been that day for...</td>\n",
       "      <td>rap</td>\n",
       "      <td>https://genius.com/Kendrick-lamar-humble-lyrics</td>\n",
       "    </tr>\n",
       "    <tr>\n",
       "      <th>3</th>\n",
       "      <td>Migos</td>\n",
       "      <td>Bad and Boujee</td>\n",
       "      <td>\\r\\nYou know, young rich niggas\\r\\nYou know so...</td>\n",
       "      <td>rap</td>\n",
       "      <td>https://genius.com/Migos-bad-and-boujee-lyrics</td>\n",
       "    </tr>\n",
       "    <tr>\n",
       "      <th>4</th>\n",
       "      <td>Drake</td>\n",
       "      <td>God's Plan</td>\n",
       "      <td>\\r\\nAnd they wishin' and wishin'\\r\\nAnd wishin...</td>\n",
       "      <td>rap</td>\n",
       "      <td>https://genius.com/Drake-gods-plan-lyrics</td>\n",
       "    </tr>\n",
       "    <tr>\n",
       "      <th>...</th>\n",
       "      <td>...</td>\n",
       "      <td>...</td>\n",
       "      <td>...</td>\n",
       "      <td>...</td>\n",
       "      <td>...</td>\n",
       "    </tr>\n",
       "    <tr>\n",
       "      <th>6828</th>\n",
       "      <td>MAVI</td>\n",
       "      <td>Terms &amp; Conditions</td>\n",
       "      <td>\\r\\nTo be pro black\\r\\nMeans to relentlessly p...</td>\n",
       "      <td>jazz</td>\n",
       "      <td>https://genius.com/Mavi-terms-and-conditions-l...</td>\n",
       "    </tr>\n",
       "    <tr>\n",
       "      <th>6829</th>\n",
       "      <td>Nina Simone</td>\n",
       "      <td>22nd Century</td>\n",
       "      <td>There is no oxygen in the air\\r\\nMen and women...</td>\n",
       "      <td>jazz</td>\n",
       "      <td>https://genius.com/Nina-simone-22nd-century-ly...</td>\n",
       "    </tr>\n",
       "    <tr>\n",
       "      <th>6830</th>\n",
       "      <td>Jon Batiste</td>\n",
       "      <td>CRY</td>\n",
       "      <td>\\r\\nWho do you love?\\r\\nWho you gonna love?\\r\\...</td>\n",
       "      <td>jazz</td>\n",
       "      <td>https://genius.com/Jon-batiste-cry-lyrics</td>\n",
       "    </tr>\n",
       "    <tr>\n",
       "      <th>6831</th>\n",
       "      <td>Frank Sinatra</td>\n",
       "      <td>Once In Love With Amy</td>\n",
       "      <td>Once in love with Amy, always in love with Amy...</td>\n",
       "      <td>jazz</td>\n",
       "      <td>https://genius.com/Frank-sinatra-once-in-love-...</td>\n",
       "    </tr>\n",
       "    <tr>\n",
       "      <th>6832</th>\n",
       "      <td>Frank Sinatra</td>\n",
       "      <td>Time After Time</td>\n",
       "      <td>What good are words I say to you?\\r\\nThey can'...</td>\n",
       "      <td>jazz</td>\n",
       "      <td>https://genius.com/Frank-sinatra-time-after-ti...</td>\n",
       "    </tr>\n",
       "  </tbody>\n",
       "</table>\n",
       "<p>6833 rows × 5 columns</p>\n",
       "</div>"
      ],
      "text/plain": [
       "              artist                  title  \\\n",
       "0             Eminem                Rap God   \n",
       "1            Cardi B                    WAP   \n",
       "2     Kendrick Lamar                HUMBLE.   \n",
       "3              Migos         Bad and Boujee   \n",
       "4              Drake             God's Plan   \n",
       "...              ...                    ...   \n",
       "6828            MAVI     Terms & Conditions   \n",
       "6829     Nina Simone           22nd Century   \n",
       "6830     Jon Batiste                    CRY   \n",
       "6831   Frank Sinatra  Once In Love With Amy   \n",
       "6832   Frank Sinatra        Time After Time   \n",
       "\n",
       "                                                 lyrics genre  \\\n",
       "0     \\r\\n\"Look, I was gonna go easy on you not to h...   rap   \n",
       "1     \\r\\nWhores in this house\\r\\nThere's some whore...   rap   \n",
       "2     \\r\\nNobody pray for me\\r\\nIt been that day for...   rap   \n",
       "3     \\r\\nYou know, young rich niggas\\r\\nYou know so...   rap   \n",
       "4     \\r\\nAnd they wishin' and wishin'\\r\\nAnd wishin...   rap   \n",
       "...                                                 ...   ...   \n",
       "6828  \\r\\nTo be pro black\\r\\nMeans to relentlessly p...  jazz   \n",
       "6829  There is no oxygen in the air\\r\\nMen and women...  jazz   \n",
       "6830  \\r\\nWho do you love?\\r\\nWho you gonna love?\\r\\...  jazz   \n",
       "6831  Once in love with Amy, always in love with Amy...  jazz   \n",
       "6832  What good are words I say to you?\\r\\nThey can'...  jazz   \n",
       "\n",
       "                                                    url  \n",
       "0              https://genius.com/Eminem-rap-god-lyrics  \n",
       "1                 https://genius.com/Cardi-b-wap-lyrics  \n",
       "2       https://genius.com/Kendrick-lamar-humble-lyrics  \n",
       "3        https://genius.com/Migos-bad-and-boujee-lyrics  \n",
       "4             https://genius.com/Drake-gods-plan-lyrics  \n",
       "...                                                 ...  \n",
       "6828  https://genius.com/Mavi-terms-and-conditions-l...  \n",
       "6829  https://genius.com/Nina-simone-22nd-century-ly...  \n",
       "6830          https://genius.com/Jon-batiste-cry-lyrics  \n",
       "6831  https://genius.com/Frank-sinatra-once-in-love-...  \n",
       "6832  https://genius.com/Frank-sinatra-time-after-ti...  \n",
       "\n",
       "[6833 rows x 5 columns]"
      ]
     },
     "execution_count": 111,
     "metadata": {},
     "output_type": "execute_result"
    }
   ],
   "source": [
    "data"
   ]
  },
  {
   "cell_type": "markdown",
   "metadata": {},
   "source": [
    "### 2. DATA VISUALISATION"
   ]
  },
  {
   "cell_type": "code",
   "execution_count": 112,
   "metadata": {},
   "outputs": [
    {
     "data": {
      "text/plain": [
       "<AxesSubplot:>"
      ]
     },
     "execution_count": 112,
     "metadata": {},
     "output_type": "execute_result"
    },
    {
     "data": {
      "image/png": "[encoded data removed]",
      "text/plain": [
       "<Figure size 432x288 with 1 Axes>"
      ]
     },
     "metadata": {
      "needs_background": "light"
     },
     "output_type": "display_data"
    }
   ],
   "source": [
    "data['genre'].hist()"
   ]
  },
  {
   "cell_type": "code",
   "execution_count": null,
   "metadata": {},
   "outputs": [],
   "source": []
  },
  {
   "cell_type": "markdown",
   "metadata": {},
   "source": [
    "### 3. DATA MODELING"
   ]
  },
  {
   "cell_type": "code",
   "execution_count": null,
   "metadata": {},
   "outputs": [],
   "source": []
  }
 ],
 "metadata": {
  "kernelspec": {
   "display_name": "Python 3 (ipykernel)",
   "language": "python",
   "name": "python3"
  },
  "language_info": {
   "codemirror_mode": {
    "name": "ipython",
    "version": 3
   },
   "file_extension": ".py",
   "mimetype": "text/x-python",
   "name": "python",
   "nbconvert_exporter": "python",
   "pygments_lexer": "ipython3",
   "version": "3.9.12"
  },
  "vscode": {
   "interpreter": {
    "hash": "26de051ba29f2982a8de78e945f0abaf191376122a1563185a90213a26c5da77"
   }
  }
 },
 "nbformat": 4,
 "nbformat_minor": 2
}
