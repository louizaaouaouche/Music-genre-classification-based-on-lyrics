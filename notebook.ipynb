{
 "cells": [
  {
   "cell_type": "markdown",
   "metadata": {},
   "source": [
    "# SD201 : MINING OF LARGE DATASETS"
   ]
  },
  {
   "cell_type": "markdown",
   "metadata": {},
   "source": [
    "## MUSIC GENRE CLASSIFICATION USING SONG LYRICS"
   ]
  },
  {
   "cell_type": "code",
   "execution_count": 31,
   "metadata": {},
   "outputs": [],
   "source": [
    "#imports\n",
    "import pandas as pd\n",
    "import numpy as np\n",
    "import matplotlib.pyplot as plt\n",
    "import seaborn as sns\n",
    "\n",
    "import re"
   ]
  },
  {
   "cell_type": "markdown",
   "metadata": {},
   "source": [
    "### 1. CONSTRUCTION OF THE DATASET"
   ]
  },
  {
   "cell_type": "markdown",
   "metadata": {},
   "source": [
    "The source of the dataset is a csv file : a result of a scrapping work through [GENIUS](https://genius.com/)."
   ]
  },
  {
   "cell_type": "markdown",
   "metadata": {},
   "source": [
    "#### 1.1 ROW DATA DESCRIPTION"
   ]
  },
  {
   "cell_type": "code",
   "execution_count": 91,
   "metadata": {},
   "outputs": [],
   "source": [
    "# loading the dataset from csv file\n",
    "data = pd.read_csv(\"lyrics.csv\", sep='#')"
   ]
  },
  {
   "cell_type": "code",
   "execution_count": 93,
   "metadata": {},
   "outputs": [
    {
     "data": {
      "text/plain": [
       "Index(['artist', 'title', 'lyrics', 'genre', 'url'], dtype='object')"
      ]
     },
     "execution_count": 93,
     "metadata": {},
     "output_type": "execute_result"
    }
   ],
   "source": [
    "# columns of dataset\n",
    "data.columns"
   ]
  },
  {
   "cell_type": "code",
   "execution_count": 94,
   "metadata": {},
   "outputs": [
    {
     "data": {
      "text/html": [
       "<div>\n",
       "<style scoped>\n",
       "    .dataframe tbody tr th:only-of-type {\n",
       "        vertical-align: middle;\n",
       "    }\n",
       "\n",
       "    .dataframe tbody tr th {\n",
       "        vertical-align: top;\n",
       "    }\n",
       "\n",
       "    .dataframe thead th {\n",
       "        text-align: right;\n",
       "    }\n",
       "</style>\n",
       "<table border=\"1\" class=\"dataframe\">\n",
       "  <thead>\n",
       "    <tr style=\"text-align: right;\">\n",
       "      <th></th>\n",
       "      <th>artist</th>\n",
       "      <th>title</th>\n",
       "      <th>lyrics</th>\n",
       "      <th>genre</th>\n",
       "      <th>url</th>\n",
       "    </tr>\n",
       "  </thead>\n",
       "  <tbody>\n",
       "    <tr>\n",
       "      <th>0</th>\n",
       "      <td>Eminem</td>\n",
       "      <td>Rap God</td>\n",
       "      <td>Rap God Lyrics\\r\\n\"Look, I was gonna go easy o...</td>\n",
       "      <td>rap</td>\n",
       "      <td>https://genius.com/Eminem-rap-god-lyrics</td>\n",
       "    </tr>\n",
       "    <tr>\n",
       "      <th>1</th>\n",
       "      <td>Cardi B</td>\n",
       "      <td>WAP</td>\n",
       "      <td>WAP Lyrics\\r\\nWhores in this house\\r\\nThere's ...</td>\n",
       "      <td>rap</td>\n",
       "      <td>https://genius.com/Cardi-b-wap-lyrics</td>\n",
       "    </tr>\n",
       "    <tr>\n",
       "      <th>2</th>\n",
       "      <td>Kendrick Lamar</td>\n",
       "      <td>HUMBLE.</td>\n",
       "      <td>HUMBLE. Lyrics\\r\\nNobody pray for me\\r\\nIt bee...</td>\n",
       "      <td>rap</td>\n",
       "      <td>https://genius.com/Kendrick-lamar-humble-lyrics</td>\n",
       "    </tr>\n",
       "    <tr>\n",
       "      <th>3</th>\n",
       "      <td>Migos</td>\n",
       "      <td>Bad and Boujee</td>\n",
       "      <td>Bad and Boujee Lyrics\\r\\nYou know, young rich ...</td>\n",
       "      <td>rap</td>\n",
       "      <td>https://genius.com/Migos-bad-and-boujee-lyrics</td>\n",
       "    </tr>\n",
       "    <tr>\n",
       "      <th>4</th>\n",
       "      <td>Drake</td>\n",
       "      <td>God's Plan</td>\n",
       "      <td>God’s Plan Lyrics\\r\\nAnd they wishin' and wish...</td>\n",
       "      <td>rap</td>\n",
       "      <td>https://genius.com/Drake-gods-plan-lyrics</td>\n",
       "    </tr>\n",
       "  </tbody>\n",
       "</table>\n",
       "</div>"
      ],
      "text/plain": [
       "           artist           title  \\\n",
       "0          Eminem         Rap God   \n",
       "1         Cardi B             WAP   \n",
       "2  Kendrick Lamar         HUMBLE.   \n",
       "3           Migos  Bad and Boujee   \n",
       "4           Drake      God's Plan   \n",
       "\n",
       "                                              lyrics genre  \\\n",
       "0  Rap God Lyrics\\r\\n\"Look, I was gonna go easy o...   rap   \n",
       "1  WAP Lyrics\\r\\nWhores in this house\\r\\nThere's ...   rap   \n",
       "2  HUMBLE. Lyrics\\r\\nNobody pray for me\\r\\nIt bee...   rap   \n",
       "3  Bad and Boujee Lyrics\\r\\nYou know, young rich ...   rap   \n",
       "4  God’s Plan Lyrics\\r\\nAnd they wishin' and wish...   rap   \n",
       "\n",
       "                                               url  \n",
       "0         https://genius.com/Eminem-rap-god-lyrics  \n",
       "1            https://genius.com/Cardi-b-wap-lyrics  \n",
       "2  https://genius.com/Kendrick-lamar-humble-lyrics  \n",
       "3   https://genius.com/Migos-bad-and-boujee-lyrics  \n",
       "4        https://genius.com/Drake-gods-plan-lyrics  "
      ]
     },
     "execution_count": 94,
     "metadata": {},
     "output_type": "execute_result"
    }
   ],
   "source": [
    "# inspecting the content of the dataset\n",
    "data.head()"
   ]
  },
  {
   "cell_type": "code",
   "execution_count": 95,
   "metadata": {},
   "outputs": [
    {
     "data": {
      "text/plain": [
       "(6858, 5)"
      ]
     },
     "execution_count": 95,
     "metadata": {},
     "output_type": "execute_result"
    }
   ],
   "source": [
    "# size of the dataset\n",
    "data.shape"
   ]
  },
  {
   "cell_type": "code",
   "execution_count": 96,
   "metadata": {},
   "outputs": [
    {
     "data": {
      "text/plain": [
       "artist    object\n",
       "title     object\n",
       "lyrics    object\n",
       "genre     object\n",
       "url       object\n",
       "dtype: object"
      ]
     },
     "execution_count": 96,
     "metadata": {},
     "output_type": "execute_result"
    }
   ],
   "source": [
    "# types of data \n",
    "data.dtypes"
   ]
  },
  {
   "cell_type": "markdown",
   "metadata": {},
   "source": [
    "#### 1.2 DATA CLEANING"
   ]
  },
  {
   "cell_type": "code",
   "execution_count": 35,
   "metadata": {},
   "outputs": [
    {
     "data": {
      "text/plain": [
       "lyrics    25\n",
       "dtype: int64"
      ]
     },
     "execution_count": 35,
     "metadata": {},
     "output_type": "execute_result"
    }
   ],
   "source": [
    "#Missing values\n",
    "data.isna().sum()[data.isna().sum() > 0]"
   ]
  },
  {
   "cell_type": "code",
   "execution_count": 36,
   "metadata": {},
   "outputs": [],
   "source": [
    "# Deleting rows with missing values\n",
    "data.dropna(inplace=True)\n",
    "data.reset_index(drop=True, inplace=True)"
   ]
  },
  {
   "cell_type": "code",
   "execution_count": 37,
   "metadata": {},
   "outputs": [
    {
     "data": {
      "text/plain": [
       "artist    0\n",
       "title     0\n",
       "lyrics    0\n",
       "genre     0\n",
       "url       0\n",
       "dtype: int64"
      ]
     },
     "execution_count": 37,
     "metadata": {},
     "output_type": "execute_result"
    }
   ],
   "source": [
    "#Check missing values (check is dropping went right)\n",
    "data.isna().sum()\n"
   ]
  },
  {
   "cell_type": "code",
   "execution_count": 74,
   "metadata": {},
   "outputs": [],
   "source": [
    "#deleting the \"[title]-Lyrics\" from the beginning of each lyrics and \"[number xxx]Embed from the end\"\n",
    "for i in range(0,len(data['lyrics'])):\n",
    "    if(re.findall(r'\\d+.*Embed.*', data['lyrics'][i])!=[]):\n",
    "        data['lyrics'][i] = data['lyrics'][i].split(re.findall(r'\\d+.*Embed.*', data['lyrics'][i])[0])[0]\n",
    "    if (re.findall(r'\\bLyrics\\b', data['lyrics'][i])!=[]):\n",
    "        data['lyrics'][i] = data['lyrics'][i].split('Lyrics')[1]\n",
    "    "
   ]
  },
  {
   "cell_type": "code",
   "execution_count": 77,
   "metadata": {},
   "outputs": [
    {
     "name": "stdout",
     "output_type": "stream",
     "text": [
      "\r\n",
      "Right about now, N.W.A court is in full effect\r\n",
      "Judge Dre presiding\r\n",
      "In the case of N.W.A versus the Police Department\r\n",
      "Prosecuting attorneys are MC Ren, Ice Cube\r\n",
      "And Eazy-motherfucking-E\r\n",
      "Order, order, order!\r\n",
      "Ice Cube, take the motherfucking stand\r\n",
      "Do you swear to tell the truth, the whole truth\r\n",
      "And nothing but the truth so help your black ass?\r\n",
      "You goddamn right\r\n",
      "Well, won't you tell everybody what the fuck you gotta say?\r\n",
      "\r\n",
      "Fuck the police comin' straight from the underground\r\n",
      "A young nigga got it bad 'cause I'm brown\r\n",
      "And not the other color, so police think\r\n",
      "They have the authority to kill a minority\r\n",
      "Fuck that shit, 'cause I ain't the one\r\n",
      "For a punk motherfucker with a badge and a gun\r\n",
      "To be beating on and thrown in jail\r\n",
      "We can go toe-to-toe in the middle of a cell\r\n",
      "Fuckin' with me 'cause I'm a teenager\r\n",
      "With a little bit of gold and a pager\r\n",
      "Searchin' my car, lookin' for the product\r\n",
      "Thinkin' every nigga is sellin' narcotics\r\n",
      "You'd rather see me in the pen\r\n",
      "Than me and Lorenzo rollin' in a Benz-o\r\n",
      "Beat a police out of shape\r\n",
      "And when I'm finished, bring the yellow tape\r\n",
      "To tape off the scene of the slaughter\r\n",
      "Still getting swole off bread and water\r\n",
      "I don't know if they fags or what\r\n",
      "Search a nigga down and grabbing his nuts\r\n",
      "And on the other hand, without a gun, they can't get none\r\n",
      "But don't let it be a black and a white one\r\n",
      "'Cause they'll slam ya down to the street top\r\n",
      "Black police showing out for the white cop\r\n",
      "Ice Cube will swarm\r\n",
      "On any motherfucker in a blue uniform\r\n",
      "Just 'cause I'm from the CPT\r\n",
      "Punk police are afraid of me, huh\r\n",
      "A young nigga on the warpath\r\n",
      "And when I'm finished, it's gonna be a bloodbath\r\n",
      "Of cops dying in L.A. \r\n",
      "Yo, Dre, I got something to say\r\n",
      "You might also like\r\n",
      "Fuck the police, fuck— fuck—\r\n",
      "Fuck the police, fuck— fuck—\r\n",
      "Fuck the police, fuck the— fuck the—\r\n",
      "Fuck the police (Example of scene one)\r\n",
      "\r\n",
      "Pull your goddamn ass over right now!\r\n",
      "Aw shit, now what the fuck you pullin' me over for?\r\n",
      "'Cause I feel like it!\r\n",
      "Just sit your ass on the curb and shut the fuck up!\r\n",
      "Man, fuck this shit\r\n",
      "Alright, smart-ass, I'm taking your black ass to jail!\r\n",
      "MC Ren, will you please give your testimony\r\n",
      "To the jury about this fucked up incident?\r\n",
      "\r\n",
      "Fuck the police and Ren said it with authority\r\n",
      "Because the niggas on the street is a majority\r\n",
      "A gang is with whoever I'm steppin'\r\n",
      "And the motherfuckin' weapon is kept in\r\n",
      "A stash spot for the so-called law\r\n",
      "Wishing Ren was a nigga that they never saw\r\n",
      "Lights start flashing behind me\r\n",
      "But they're scared of a nigga, so they mace me to blind me\r\n",
      "But that shit don't work, I just laugh\r\n",
      "Because it gives them a hint not to step in my path\r\n",
      "For police, I'm saying, \"Fuck you, punk!\"\r\n",
      "Reading my rights and shit, it's all junk\r\n",
      "Pulling out a silly club, so you stand\r\n",
      "With a fake-ass badge and a gun in your hand\r\n",
      "But take off the gun so you can see what's up\r\n",
      "And we'll go at it, punk, and I'ma fuck you up\r\n",
      "Make you think I'ma kick your ass\r\n",
      "But drop your gat, and Ren's gonna blast\r\n",
      "I'm sneaky as fuck when it comes to crime\r\n",
      "But I'ma smoke 'em now and not next time\r\n",
      "Smoke any motherfucker that sweats me\r\n",
      "Or any asshole that threatens me\r\n",
      "I'm a sniper with a hell of a scope\r\n",
      "Takin' out a cop or two, they can't cope with me\r\n",
      "The motherfuckin' villain that's mad\r\n",
      "With potential to get bad as fuck\r\n",
      "So I'ma turn it around\r\n",
      "Put in my clip, yo, and this is the sound (*Gunshots*)\r\n",
      "Yeah, somethin' like that\r\n",
      "But it all depends on the size of the gat\r\n",
      "Takin' out a police would make my day\r\n",
      "But a nigga like Ren don't give a fuck to say\r\n",
      "Fuck the police, fuck the— fuck the—\r\n",
      "Fuck the police, fuck the— fuck the—\r\n",
      "Fuck the police, fuck the— fuck—\r\n",
      "Fuck the police\r\n",
      "\r\n",
      "*Knocking*\r\n",
      "Yeah, man, what you need?\r\n",
      "Police, open now (Aww, shit)\r\n",
      "We have a warrant for Eazy-E's arrest (*Battering ram*)\r\n",
      "Get down and put your hands right where I can see 'em! (Move, motherfucker, move now!)\r\n",
      "What the fuck did I do, man? What did I do?\r\n",
      "Just shut the fuck up and get your motherfucking ass on the floor! (You heard the man, shut the fuck up!)\r\n",
      "But I didn't do shit\r\n",
      "Man, just shut the fuck up!\r\n",
      "Eazy-E, won't you step up to the stand\r\n",
      "And tell the jury how you feel about this bullshit?\r\n",
      "I'm tired of the motherfuckin' jackin'\r\n",
      "Sweating my gang, while I'm chillin' in the shack, and\r\n",
      "Shining the light in my face, and for what?\r\n",
      "Maybe it's because I kick so much butt\r\n",
      "I kick ass, or maybe 'cause I blast\r\n",
      "On a stupid ass nigga when I'm playing with the trigger\r\n",
      "Of an Uzi or an AK\r\n",
      "'Cause the police always got somethin' stupid to say\r\n",
      "They put out my picture with silence\r\n",
      "'Cause my identity by itself causes violence\r\n",
      "The E with the criminal behavior\r\n",
      "Yeah, I'm a gangsta, but still, I got flavor\r\n",
      "Without a gun and a badge, what do you got?\r\n",
      "A sucker in a uniform waiting to get shot\r\n",
      "By me or another nigga\r\n",
      "And with a gat, it don't matter if he's smaller or bigger\r\n",
      "(Size don't mean shit, he's from the old school, fool)\r\n",
      "And as you all know, E's here to rule\r\n",
      "Whenever I'm rollin', keep lookin' in the mirror\r\n",
      "And ears on cue, yo, so I can hear a\r\n",
      "Dumb motherfucker with a gun\r\n",
      "And if I'm rollin' off the eight, he'll be the one\r\n",
      "That I take out, and then get away\r\n",
      "While I'm driving off laughing, this is what I'll say\r\n",
      "Fuck the police, fuck the— fuck the—\r\n",
      "Fuck the police, fuck—\r\n",
      "Fuck the police, fuck— fuck—\r\n",
      "Fuck the police (The verdict)\r\n",
      "\r\n",
      "The jury has found you guilty of being a redneck, white bread, chicken shit motherfucker\r\n",
      "Wait, that's a lie! That's a goddamn lie!\r\n",
      "Get him out of here! (I want justice!)\r\n",
      "Get him the fuck out my face! (I want justice!)\r\n",
      "Out, right now!\r\n",
      "Fuck you, you black motherfuckers!\r\n",
      "Fuck the police\r\n",
      "Fuck the police\r\n",
      "Fuck the police\n"
     ]
    }
   ],
   "source": [
    "#Checking the data cleaning on a random song lyrics\n",
    "print(data['lyrics'][212])"
   ]
  },
  {
   "cell_type": "code",
   "execution_count": 85,
   "metadata": {},
   "outputs": [
    {
     "name": "stdout",
     "output_type": "stream",
     "text": [
      "Number of songs grouped by genre of music: genre\n",
      "country     119\n",
      "hip-hop    1000\n",
      "jazz        979\n",
      "metal       996\n",
      "pop         739\n",
      "r-b        1000\n",
      "rap        1000\n",
      "rock       1000\n",
      "Name: lyrics, dtype: int64\n"
     ]
    },
    {
     "data": {
      "text/plain": [
       "<AxesSubplot:>"
      ]
     },
     "execution_count": 85,
     "metadata": {},
     "output_type": "execute_result"
    },
    {
     "data": {
      "image/png": "[encoded data removed]",
      "text/plain": [
       "<Figure size 432x288 with 1 Axes>"
      ]
     },
     "metadata": {
      "needs_background": "light"
     },
     "output_type": "display_data"
    }
   ],
   "source": [
    "print(\"Number of songs grouped by genre of music:\",data.groupby('genre').count()['lyrics'])\n",
    "data['genre'].hist(bins=30)"
   ]
  },
  {
   "cell_type": "markdown",
   "metadata": {},
   "source": [
    "### 2. DATA MODELING"
   ]
  },
  {
   "cell_type": "markdown",
   "metadata": {},
   "source": [
    "#### 2.1 PREPROCESSING"
   ]
  },
  {
   "cell_type": "code",
   "execution_count": null,
   "metadata": {},
   "outputs": [],
   "source": []
  },
  {
   "cell_type": "markdown",
   "metadata": {},
   "source": [
    "### 3. RESULTS"
   ]
  }
 ],
 "metadata": {
  "kernelspec": {
   "display_name": "Python 3 (ipykernel)",
   "language": "python",
   "name": "python3"
  },
  "language_info": {
   "codemirror_mode": {
    "name": "ipython",
    "version": 3
   },
   "file_extension": ".py",
   "mimetype": "text/x-python",
   "name": "python",
   "nbconvert_exporter": "python",
   "pygments_lexer": "ipython3",
   "version": "3.9.12"
  },
  "vscode": {
   "interpreter": {
    "hash": "26de051ba29f2982a8de78e945f0abaf191376122a1563185a90213a26c5da77"
   }
  }
 },
 "nbformat": 4,
 "nbformat_minor": 2
}
